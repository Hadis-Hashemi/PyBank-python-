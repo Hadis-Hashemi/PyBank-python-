{
 "cells": [
  {
   "cell_type": "markdown",
   "metadata": {},
   "source": [
    "This code read the data from a csv file and analyzes the records to calculate the following parameters:\n",
    "- total months, \n",
    "- total net profit/loss, \n",
    "- max changes in profit/loss, \n",
    "- min changes in profit/loss\n",
    "\n",
    "finally, the results are exported to a text file"
   ]
  },
  {
   "cell_type": "markdown",
   "metadata": {},
   "source": [
    "## Import packages and read input file"
   ]
  },
  {
   "cell_type": "code",
   "execution_count": 13,
   "metadata": {},
   "outputs": [],
   "source": [
    "import os\n",
    "import csv"
   ]
  },
  {
   "cell_type": "code",
   "execution_count": 14,
   "metadata": {},
   "outputs": [],
   "source": [
    "# Path to collect data from the Resources folder\n",
    "Csvpath = os.path.join(\"Resources/\",\"budget_data.csv.csv\")"
   ]
  },
  {
   "cell_type": "markdown",
   "metadata": {},
   "source": [
    "## Evaluation"
   ]
  },
  {
   "cell_type": "code",
   "execution_count": 25,
   "metadata": {},
   "outputs": [
    {
     "name": "stdout",
     "output_type": "stream",
     "text": [
      "Total months: 86\n",
      "Total: $38382578.0\n",
      "$ Average Change:$-2315.1176470588234\n",
      "Greatest Increase in Profits:Feb-2012($1926159.0)\n",
      "Greatest Decrease in Profits: Sep-2013($-2196167.0)\n"
     ]
    }
   ],
   "source": [
    "# with open as csvfile:\n",
    "with open(Csvpath,'r') as csvfile:   \n",
    "    csvreader = csv.reader(csvfile, delimiter=',')\n",
    "    next(csvreader, None) # skip the header\n",
    "    \n",
    "# Initialize the variables\n",
    "    total=0 #total amount of Profit/Loss\n",
    "    lastrow=0 # earlier reported date than current date\n",
    "    totaldelta=0 # sum of change in Profit/Loss\n",
    "    max_delta=0 # max. of change in Profit/Loss\n",
    "    min_delta=0 # min. of change in Profit/Loss\n",
    "    delta=0 # change in Profit/Loss\n",
    "    \n",
    "# Loop through each row of data\n",
    "    for i, row in enumerate(csvreader):\n",
    "        total += float(row[1]) #caluclate the net total amount of Profit/Loss\n",
    "        #caluclate the changes in profit/loss\n",
    "        if i>0:\n",
    "            delta=float(row[1])-lastrow\n",
    "        lastrow=float(row[1])\n",
    "        totaldelta += delta\n",
    "        # calculate the max of changes in profit/loss\n",
    "        if delta> max_delta:\n",
    "            max_delta=delta\n",
    "            index_max=row[0]      \n",
    "        \n",
    "        # calculate the max of changes in profit/loss\n",
    "        if delta < min_delta:\n",
    "            min_delta=delta\n",
    "            index_min=row[0]"
   ]
  },
  {
   "cell_type": "markdown",
   "metadata": {},
   "source": [
    " ## write results to console and text file"
   ]
  },
  {
   "cell_type": "code",
   "execution_count": 65,
   "metadata": {},
   "outputs": [
    {
     "name": "stdout",
     "output_type": "stream",
     "text": [
      "Total months: 86\n",
      "Total: $38382578.0\n",
      "Average Change:$-2315.1176470588234\n",
      "Greatest Increase in Profits:Feb-2012($1926159.0)\n",
      "Greatest Decrease in Profits: Sep-2013($-2196167.0)\n"
     ]
    }
   ],
   "source": [
    "#print out the results      \n",
    "print(f'Total months: {i+1}')\n",
    "print(f'Total: ${total}') \n",
    "print(f'Average Change:${totaldelta/(i)}')\n",
    "print(f'Greatest Increase in Profits:{index_max}(${max_delta})')\n",
    "print(f'Greatest Decrease in Profits: {index_min}(${min_delta})')\n",
    "\n",
    "output_file=open(\"newPybank.txt\",'w')\n",
    "output_file.write(f'Total months:{i+1}\\nTotal:${total}\\nAverage Change: $({totaldelta/(i)}\\n')\n",
    "output_file.write(f'Greatest Increase in Profits:{index_max}${max_delta}\\nGreatest Decrease in Profits:{index_min}(${min_delta})')\n",
    "output_file.close()                  \n",
    "                   "
   ]
  }
 ],
 "metadata": {
  "kernelspec": {
   "display_name": "Python 3",
   "language": "python",
   "name": "python3"
  },
  "language_info": {
   "codemirror_mode": {
    "name": "ipython",
    "version": 3
   },
   "file_extension": ".py",
   "mimetype": "text/x-python",
   "name": "python",
   "nbconvert_exporter": "python",
   "pygments_lexer": "ipython3",
   "version": "3.7.6"
  }
 },
 "nbformat": 4,
 "nbformat_minor": 4
}
