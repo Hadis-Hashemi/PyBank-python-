{
 "cells": [
  {
   "cell_type": "markdown",
   "metadata": {},
   "source": [
    "In this code a set of pull data will read and analyzed as follows:\n",
    "- The total number of votes cast\n",
    "- complete list of candidates who received votes\n",
    "- The percentage of votes each candidate won\n",
    "- The total number of votes each candidate won\n",
    "- The winner of the election based on popular vote\n",
    "\n",
    "Finally, the results will be exported to text file "
   ]
  },
  {
   "cell_type": "markdown",
   "metadata": {},
   "source": [
    "## Import packages and read input file"
   ]
  },
  {
   "cell_type": "code",
   "execution_count": 11,
   "metadata": {},
   "outputs": [],
   "source": [
    "import os \n",
    "import csv"
   ]
  },
  {
   "cell_type": "code",
   "execution_count": 12,
   "metadata": {},
   "outputs": [],
   "source": [
    "# Path to collect data from the Resources folder\n",
    "Csvpath = os.path.join(\"Resources/\",\"election_data.csv\")"
   ]
  },
  {
   "cell_type": "markdown",
   "metadata": {},
   "source": [
    "## Evaluation\n"
   ]
  },
  {
   "cell_type": "code",
   "execution_count": 72,
   "metadata": {},
   "outputs": [
    {
     "name": "stdout",
     "output_type": "stream",
     "text": [
      "Election Results\n",
      "----------------------------------------------------------\n",
      "Total Votes:3521001\n",
      "------------------------------------------------------------\n",
      "Khan:63.00001050837531% (2218231)\n",
      "Correy:19.999994319797125% (704200)\n",
      "Li:13.999996023857989% (492940)\n",
      "O'Tooley:2.999999147969569% (105630)\n",
      "------------------------------------------------------------\n",
      "winner: Khan\n"
     ]
    }
   ],
   "source": [
    "# with open as csvfile:\n",
    "with open(Csvpath,'r') as csvfile:   \n",
    "    csvreader = csv.reader(csvfile, delimiter=',')\n",
    "    next(csvreader, None) # skip the header\n",
    "\n",
    "    total_vote = 0 # Initialize the variables\n",
    "\n",
    "    candidate_list=[] #create the list of candidate         \n",
    "    candidate_vote=[] #create the list of canditates vote\n",
    "\n",
    "#Loop through each row of data\n",
    "    for row in csvreader:\n",
    "        total_vote+=1 #caluclate the total number of votes\n",
    "        if row[2] in candidate_list:  \n",
    "            index_candidate=candidate_list.index(row[2])\n",
    "            candidate_vote[index_candidate]+=1\n",
    "        else:\n",
    "            candidate_list.append(row[2])\n",
    "            candidate_vote.append(1)\n",
    "winner_index=candidate_vote.index(max(candidate_vote))\n",
    "sum_list = sum(candidate_vote)\n",
    "\n",
    "\n",
    "        \n",
    "print(\"Election Results\")\n",
    "print(\"----------------------------------------------------------\")\n",
    "print(f'Total Votes:{total_vote}')\n",
    "print(\"------------------------------------------------------------\")\n",
    "for i in range (4):\n",
    "    print(f'{candidate_list[i]}:{candidate_vote[i]/sum_list*100}% ({candidate_vote[i]})')\n",
    "print(\"------------------------------------------------------------\")\n",
    "print(f'winner: {candidate_list[winner_index]}')\n",
    "print(\"------------------------------------------------------------\")"
   ]
  },
  {
   "cell_type": "code",
   "execution_count": null,
   "metadata": {},
   "outputs": [],
   "source": []
  }
 ],
 "metadata": {
  "kernelspec": {
   "display_name": "Python 3",
   "language": "python",
   "name": "python3"
  },
  "language_info": {
   "codemirror_mode": {
    "name": "ipython",
    "version": 3
   },
   "file_extension": ".py",
   "mimetype": "text/x-python",
   "name": "python",
   "nbconvert_exporter": "python",
   "pygments_lexer": "ipython3",
   "version": "3.7.6"
  }
 },
 "nbformat": 4,
 "nbformat_minor": 4
}
